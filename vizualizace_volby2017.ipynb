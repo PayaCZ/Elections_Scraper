{
 "cells": [
  {
   "cell_type": "code",
   "execution_count": null,
   "metadata": {},
   "outputs": [],
   "source": [
    "import pandas as pd\n",
    "import matplotlib.pyplot as plt\n",
    "\n",
    "def nazev_mesta(mesto = input(\"Zadej název města pro vizualizaci voleb 2017 z územního celku Kladno (první písmeno musí být velké): \")):\n",
    "    if not mesto.isalpha():\n",
    "        print(\"Zadej pouze písmena!\")\n",
    "    elif not mesto[0].isupper():\n",
    "        print(\"Prní písmeno musí být velké!\")\n",
    "    else:\n",
    "        print(\"Pracuji...\")    \n",
    "    return mesto\n",
    "\n",
    "df = pd.read_csv(\"vysledky_voleb2017_kladno.csv\")\n",
    "\n",
    "df = df.set_index(\"Název obce\")\n",
    "data_columns = df.columns[4:]\n",
    "\n",
    "for data_column in data_columns:\n",
    "    df[data_column] = pd.to_numeric(df[data_column].str.replace(\",\", \".\"))\n",
    "\n",
    "df_sl = df.loc[nazev_mesta()][4:].sort_values()\n",
    "\n",
    "axes = df_sl.plot.barh(\n",
    "    color=[\"#44beff\",\"blue\", \"orange\", \"black\",\"red\"], rot=0\n",
    ")\n",
    "\n",
    "axes.set_title(f\"Volby do poslanecké sněmovny 2017: {nazev_mesta()}\")\n",
    "\n",
    "plt.show()"
   ]
  }
 ],
 "metadata": {
  "kernelspec": {
   "display_name": "Python 3",
   "language": "python",
   "name": "python3"
  },
  "language_info": {
   "codemirror_mode": {
    "name": "ipython",
    "version": 3
   },
   "file_extension": ".py",
   "mimetype": "text/x-python",
   "name": "python",
   "nbconvert_exporter": "python",
   "pygments_lexer": "ipython3",
   "version": "3.11.0"
  },
  "orig_nbformat": 4,
  "vscode": {
   "interpreter": {
    "hash": "d3c4e53c04efaf7d4af5a94ce68be194354ee44f1c0617511bf233bae3e33a8a"
   }
  }
 },
 "nbformat": 4,
 "nbformat_minor": 2
}
